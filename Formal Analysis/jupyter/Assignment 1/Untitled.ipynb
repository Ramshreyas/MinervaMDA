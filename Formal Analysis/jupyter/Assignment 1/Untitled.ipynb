{
 "cells": [
  {
   "cell_type": "markdown",
   "metadata": {},
   "source": [
    "CS350: Logical Thinking\n",
    "\n",
    "### Would you rather donate your body to science or donate your organs to people who need them?\n",
    "\n",
    "**PART 1**\n",
    "\n",
    "For one side of the argument, craft two brief arguments (<150 words each) using deductive reasoning. One argument should be a valid deduction and one should contain a fallacy. Write these arguments in natural language in simple terms with clear use of logical connectives and atomic sentences so that it is amenable for the following analysis.\n",
    "\n",
    "> I would rather donate my body to science than donate my organs to people who need them.\n",
    "\n",
    "Valid deduction:\n",
    "\n",
    "1. If donating my organs to science can help more people than donating my organs to people, it is the better alternative\n",
    "2. For every organ that is donated, one person is helped\n",
    "3. The maximum number of organs I can donate is the total number of my organs\n",
    "4. The maximum number of people i can help by donating my organs to them is the maximum number of my organs\n",
    "5. Donating my organs to science will help more people than the maximum number of my organs\n",
    "6. Donating my organs to science will help more people than the maximum I can donate to people\n",
    "7. Donating my organs to science will help more people than the maximum number of people i can help by donating my organs to them\n",
    "8. Donating my organs to science is better than donating my organs to people\n",
    "\n",
    "\n"
   ]
  },
  {
   "cell_type": "code",
   "execution_count": null,
   "metadata": {},
   "outputs": [],
   "source": []
  }
 ],
 "metadata": {
  "kernelspec": {
   "display_name": "R",
   "language": "R",
   "name": "ir"
  },
  "language_info": {
   "codemirror_mode": "r",
   "file_extension": ".r",
   "mimetype": "text/x-r-source",
   "name": "R",
   "pygments_lexer": "r",
   "version": "4.0.0"
  }
 },
 "nbformat": 4,
 "nbformat_minor": 4
}
